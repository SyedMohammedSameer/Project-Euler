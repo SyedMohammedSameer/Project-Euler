{
 "cells": [
  {
   "cell_type": "code",
   "execution_count": 1,
   "id": "88e775b7",
   "metadata": {},
   "outputs": [],
   "source": [
    "def largest_prime_factor(n): \n",
    "    largest_prime = 2\n",
    "    \n",
    "    while n%2 == 0: \n",
    "        n //= 2\n",
    "\n",
    "    for i in range(3, int(n**0.5)+1, 2): \n",
    "        while n%i == 0: \n",
    "            largest_prime = i \n",
    "            n //= i \n",
    "    return n if n>2 else largest_prime"
   ]
  },
  {
   "cell_type": "code",
   "execution_count": 2,
   "id": "6355ab00",
   "metadata": {},
   "outputs": [
    {
     "data": {
      "text/plain": [
       "6857"
      ]
     },
     "execution_count": 2,
     "metadata": {},
     "output_type": "execute_result"
    }
   ],
   "source": [
    "largest_prime_factor(600851475143)"
   ]
  },
  {
   "cell_type": "code",
   "execution_count": null,
   "id": "4fd16fe9",
   "metadata": {},
   "outputs": [],
   "source": []
  }
 ],
 "metadata": {
  "kernelspec": {
   "display_name": "Python 3",
   "language": "python",
   "name": "python3"
  },
  "language_info": {
   "codemirror_mode": {
    "name": "ipython",
    "version": 3
   },
   "file_extension": ".py",
   "mimetype": "text/x-python",
   "name": "python",
   "nbconvert_exporter": "python",
   "pygments_lexer": "ipython3",
   "version": "3.8.8"
  }
 },
 "nbformat": 4,
 "nbformat_minor": 5
}
