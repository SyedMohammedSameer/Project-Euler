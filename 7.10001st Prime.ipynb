{
 "cells": [
  {
   "cell_type": "code",
   "execution_count": 1,
   "id": "c14bf58d",
   "metadata": {},
   "outputs": [
    {
     "name": "stdout",
     "output_type": "stream",
     "text": [
      "104743\n"
     ]
    }
   ],
   "source": [
    "import eulerlib, itertools\n",
    "def compute():\n",
    "    ans = next(itertools.islice(filter(eulerlib.is_prime, itertools.count(2)), 10000, None))\n",
    "    return str(ans)\n",
    "\n",
    "\n",
    "if __name__ == \"__main__\":\n",
    "    print(compute())"
   ]
  },
  {
   "cell_type": "code",
   "execution_count": null,
   "id": "81e5702d",
   "metadata": {},
   "outputs": [],
   "source": []
  }
 ],
 "metadata": {
  "kernelspec": {
   "display_name": "Python 3",
   "language": "python",
   "name": "python3"
  },
  "language_info": {
   "codemirror_mode": {
    "name": "ipython",
    "version": 3
   },
   "file_extension": ".py",
   "mimetype": "text/x-python",
   "name": "python",
   "nbconvert_exporter": "python",
   "pygments_lexer": "ipython3",
   "version": "3.8.8"
  }
 },
 "nbformat": 4,
 "nbformat_minor": 5
}
