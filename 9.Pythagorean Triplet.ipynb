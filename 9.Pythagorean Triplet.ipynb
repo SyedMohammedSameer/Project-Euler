{
 "cells": [
  {
   "cell_type": "code",
   "execution_count": 1,
   "id": "6182068d",
   "metadata": {},
   "outputs": [
    {
     "name": "stdout",
     "output_type": "stream",
     "text": [
      "31875000\n"
     ]
    }
   ],
   "source": [
    "def compute():\n",
    "    PERIMETER = 1000\n",
    "    for a in range(1, PERIMETER + 1):\n",
    "        for b in range(a + 1, PERIMETER + 1):\n",
    "            c = PERIMETER - a - b\n",
    "            if a * a + b * b == c * c:\n",
    "                # It is now implied that b < c, because we have a > 0\n",
    "                return str(a * b * c)\n",
    "\n",
    "\n",
    "if __name__ == \"__main__\":\n",
    "    print(compute())"
   ]
  },
  {
   "cell_type": "code",
   "execution_count": null,
   "id": "d66192b7",
   "metadata": {},
   "outputs": [],
   "source": []
  }
 ],
 "metadata": {
  "kernelspec": {
   "display_name": "Python 3",
   "language": "python",
   "name": "python3"
  },
  "language_info": {
   "codemirror_mode": {
    "name": "ipython",
    "version": 3
   },
   "file_extension": ".py",
   "mimetype": "text/x-python",
   "name": "python",
   "nbconvert_exporter": "python",
   "pygments_lexer": "ipython3",
   "version": "3.8.8"
  }
 },
 "nbformat": 4,
 "nbformat_minor": 5
}
