{
 "cells": [
  {
   "cell_type": "code",
   "execution_count": 3,
   "id": "b8dc6724",
   "metadata": {},
   "outputs": [
    {
     "name": "stdout",
     "output_type": "stream",
     "text": [
      "4613732\n"
     ]
    }
   ],
   "source": [
    "def compute():\n",
    "    ans = 0\n",
    "    x = 1  # Represents the current Fibonacci number being processed\n",
    "    y = 2  # Represents the next Fibonacci number in the sequence\n",
    "    while x <= 4000000:\n",
    "        if x % 2 == 0:\n",
    "            ans += x\n",
    "        x, y = y, x + y\n",
    "    return str(ans)\n",
    "\n",
    "\n",
    "if __name__ == \"__main__\":\n",
    "    print(compute())"
   ]
  },
  {
   "cell_type": "code",
   "execution_count": null,
   "id": "ec9e7e86",
   "metadata": {},
   "outputs": [],
   "source": []
  }
 ],
 "metadata": {
  "kernelspec": {
   "display_name": "Python 3",
   "language": "python",
   "name": "python3"
  },
  "language_info": {
   "codemirror_mode": {
    "name": "ipython",
    "version": 3
   },
   "file_extension": ".py",
   "mimetype": "text/x-python",
   "name": "python",
   "nbconvert_exporter": "python",
   "pygments_lexer": "ipython3",
   "version": "3.8.8"
  }
 },
 "nbformat": 4,
 "nbformat_minor": 5
}
